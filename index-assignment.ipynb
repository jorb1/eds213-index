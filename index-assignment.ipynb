{
 "cells": [
  {
   "cell_type": "markdown",
   "id": "d8fbb7e4-eac6-4b4a-821a-9e356e464b40",
   "metadata": {},
   "source": [
    "# Week 9 Assingment: What makes a good index?\n",
    "\n",
    "## Author: Bailey Jørgensen"
   ]
  },
  {
   "cell_type": "code",
   "execution_count": 1,
   "id": "db253b79-ca85-4054-b275-9b53c112a2ff",
   "metadata": {
    "tags": []
   },
   "outputs": [
    {
     "data": {
      "text/plain": [
       "('barr', 'Barrow', 'Alaska, USA', 71.3, -156.6, 220.4)"
      ]
     },
     "execution_count": 1,
     "metadata": {},
     "output_type": "execute_result"
    }
   ],
   "source": [
    "# %pip install sqlite3\n",
    "\n",
    "# Connect to the database\n",
    "import sqlite3\n",
    "conn = sqlite3.connect(\"/courses/EDS213/big-fat.sqlite3\")\n",
    "cur = conn.cursor()\n",
    "\n",
    "# Execute a query\n",
    "cur.execute(\"SELECT * FROM Site\")\n",
    "cur.fetchone()"
   ]
  },
  {
   "cell_type": "code",
   "execution_count": 5,
   "id": "6a694d05-1afa-4a7b-b2e4-a383142386b8",
   "metadata": {
    "tags": []
   },
   "outputs": [
    {
     "name": "stdout",
     "output_type": "stream",
     "text": [
      "Nest ID:  ('gen511190',)\n"
     ]
    }
   ],
   "source": [
    "# Query we will be working with for the assignment\n",
    "cur.execute(\"\"\"SELECT Nest_ID\n",
    "    FROM Bird_nests\n",
    "    WHERE Site = 'nome' AND\n",
    "          Species = 'ruff' AND\n",
    "          Year = 1983 AND\n",
    "          Observer = 'cbishop' AND\n",
    "          ageMethod = 'float';\"\"\")\n",
    "\n",
    "result = cur.fetchone()\n",
    "\n",
    "print(\"Nest ID: \", result)"
   ]
  },
  {
   "cell_type": "markdown",
   "id": "ae11d501-48e3-4c77-8832-8966ca5c394f",
   "metadata": {},
   "source": [
    "### Part 1:\n",
    "Answer the following questions.\n",
    "\n",
    "- Is there already an index on the Bird_nests table? If so, what is that index and will SQLite use it in the above query? Why or why not?"
   ]
  },
  {
   "cell_type": "code",
   "execution_count": 13,
   "id": "659696c3-3bcc-49cc-afb9-5da67f21d071",
   "metadata": {
    "tags": []
   },
   "outputs": [
    {
     "name": "stdout",
     "output_type": "stream",
     "text": [
      "[(0, 'sqlite_autoindex_Bird_nests_1', 1, 'pk', 0)]\n"
     ]
    }
   ],
   "source": [
    "# Check to see if there is are indexes \n",
    "cur.execute(\"\"\"PRAGMA index_list(Bird_nests);\"\"\")\n",
    "result = cur.fetchall()\n",
    "\n",
    "print(result)"
   ]
  },
  {
   "cell_type": "code",
   "execution_count": 12,
   "id": "defd0cc1-18ed-44cd-a62f-5f0de5e29f31",
   "metadata": {
    "tags": []
   },
   "outputs": [
    {
     "name": "stdout",
     "output_type": "stream",
     "text": [
      "[(2, 0, 0, 'SCAN Bird_nests')]\n"
     ]
    }
   ],
   "source": [
    "# See if this index is used in this query\n",
    "cur.execute(\"\"\"EXPLAIN QUERY PLAN \n",
    "    SELECT Nest_ID\n",
    "    FROM Bird_nests\n",
    "    WHERE Site = 'nome' AND\n",
    "          Species = 'ruff' AND\n",
    "          Year = 1983 AND\n",
    "          Observer = 'cbishop' AND\n",
    "          ageMethod = 'float';\"\"\")\n",
    "result = cur.fetchall()\n",
    "print(result)"
   ]
  },
  {
   "cell_type": "markdown",
   "id": "a50ab3e0-b261-460f-8c7d-3a11132169b1",
   "metadata": {},
   "source": [
    "It looks like, based on the searches above, that there is one index already on the Bird_nests table. However, that index is not used in the Query for this assingment, because the query plan involves \"SCAN Bird_nests\", which is the entire table."
   ]
  },
  {
   "cell_type": "markdown",
   "id": "4f9d484a-89c8-4262-8ed4-393ef8737b89",
   "metadata": {},
   "source": [
    "- Will adding an index on a column not mentioned in the WHERE clause be used by the database? Why or why not?\n",
    "\n",
    "Since the existing index does not live on any of the columns mentioned by the WHERE clause, it is not used during the query. This makes sense, since the database has no need to use the indexes and columns not called in the query. "
   ]
  },
  {
   "cell_type": "markdown",
   "id": "ae8a7817-544a-4ae1-82da-ba263802135b",
   "metadata": {},
   "source": [
    "### Part 2:"
   ]
  },
  {
   "cell_type": "code",
   "execution_count": null,
   "id": "1f86b7da-0b83-4b6a-af1a-82289b14c077",
   "metadata": {},
   "outputs": [],
   "source": []
  }
 ],
 "metadata": {
  "kernelspec": {
   "display_name": "Python 3.10.0",
   "language": "python",
   "name": "python3.10.0"
  },
  "language_info": {
   "codemirror_mode": {
    "name": "ipython",
    "version": 3
   },
   "file_extension": ".py",
   "mimetype": "text/x-python",
   "name": "python",
   "nbconvert_exporter": "python",
   "pygments_lexer": "ipython3",
   "version": "3.10.0"
  }
 },
 "nbformat": 4,
 "nbformat_minor": 5
}
