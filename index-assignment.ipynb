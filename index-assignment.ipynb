{
 "cells": [
  {
   "cell_type": "markdown",
   "id": "d8fbb7e4-eac6-4b4a-821a-9e356e464b40",
   "metadata": {},
   "source": [
    "# Week 9 Assingment: What makes a good index?\n",
    "\n",
    "## Author: Bailey Jørgensen"
   ]
  },
  {
   "cell_type": "code",
   "execution_count": 1,
   "id": "db253b79-ca85-4054-b275-9b53c112a2ff",
   "metadata": {
    "tags": []
   },
   "outputs": [
    {
     "data": {
      "text/plain": [
       "('barr', 'Barrow', 'Alaska, USA', 71.3, -156.6, 220.4)"
      ]
     },
     "execution_count": 1,
     "metadata": {},
     "output_type": "execute_result"
    }
   ],
   "source": [
    "# %pip install sqlite3\n",
    "\n",
    "# Connect to the database\n",
    "import sqlite3\n",
    "conn = sqlite3.connect(\"/courses/EDS213/big-fat.sqlite3\")\n",
    "cur = conn.cursor()\n",
    "\n",
    "# Execute a query\n",
    "cur.execute(\"SELECT * FROM Site\")\n",
    "cur.fetchone()"
   ]
  },
  {
   "cell_type": "markdown",
   "id": "ae11d501-48e3-4c77-8832-8966ca5c394f",
   "metadata": {},
   "source": [
    "### Part 1\n",
    "Answer the following questions.\n",
    "\n",
    "- Is there already an index on the Bird_nests table? If so, what is that index and will SQLite use it in the above query? Why or why not?\n",
    "\n",
    "- Will adding an index on a column not mentioned in the WHERE clause be used by the database? Why or why not?"
   ]
  },
  {
   "cell_type": "code",
   "execution_count": null,
   "id": "c4f783b7-3b16-4e64-a977-0e01d0bb2abb",
   "metadata": {},
   "outputs": [],
   "source": []
  }
 ],
 "metadata": {
  "kernelspec": {
   "display_name": "Python 3.10.0",
   "language": "python",
   "name": "python3.10.0"
  },
  "language_info": {
   "codemirror_mode": {
    "name": "ipython",
    "version": 3
   },
   "file_extension": ".py",
   "mimetype": "text/x-python",
   "name": "python",
   "nbconvert_exporter": "python",
   "pygments_lexer": "ipython3",
   "version": "3.10.0"
  }
 },
 "nbformat": 4,
 "nbformat_minor": 5
}
