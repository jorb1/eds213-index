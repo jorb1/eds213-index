{
 "cells": [
  {
   "cell_type": "markdown",
   "id": "d8fbb7e4-eac6-4b4a-821a-9e356e464b40",
   "metadata": {},
   "source": [
    "# Week 9 Assignment: What makes a good index?\n",
    "\n",
    "## Author: Bailey Jørgensen"
   ]
  },
  {
   "cell_type": "code",
   "execution_count": 28,
   "id": "db253b79-ca85-4054-b275-9b53c112a2ff",
   "metadata": {
    "tags": []
   },
   "outputs": [
    {
     "data": {
      "text/plain": [
       "('barr', 'Barrow', 'Alaska, USA', 71.3, -156.6, 220.4)"
      ]
     },
     "execution_count": 28,
     "metadata": {},
     "output_type": "execute_result"
    }
   ],
   "source": [
    "# %pip install sqlite3\n",
    "\n",
    "# Import libraries\n",
    "import sqlite3\n",
    "import time\n",
    "import csv\n",
    "import pandas as pd\n",
    "import matplotlib.pyplot as plt\n",
    "\n",
    "# Note: I was having trouble with the DB being read-only, so I made a copy like so:\n",
    "# Open the original read-only DB\n",
    "readonly_conn = sqlite3.connect(\"/courses/EDS213/big-fat.sqlite3\")\n",
    "\n",
    "# Create an in-memory writable DB\n",
    "mem_conn = sqlite3.connect(\":memory:\")\n",
    "\n",
    "# Copy the entire database into memory\n",
    "readonly_conn.backup(mem_conn)\n",
    "\n",
    "# Create the cursor\n",
    "cur = mem_conn.cursor()\n",
    "\n",
    "# Execute a query\n",
    "cur.execute(\"SELECT * FROM Site\")\n",
    "cur.fetchone()"
   ]
  },
  {
   "cell_type": "code",
   "execution_count": 29,
   "id": "6a694d05-1afa-4a7b-b2e4-a383142386b8",
   "metadata": {
    "tags": []
   },
   "outputs": [
    {
     "name": "stdout",
     "output_type": "stream",
     "text": [
      "Nest ID:  ('gen511190',)\n"
     ]
    }
   ],
   "source": [
    "# Query we will be working with for the assignment\n",
    "cur.execute(\"\"\"SELECT Nest_ID\n",
    "    FROM Bird_nests\n",
    "    WHERE Site = 'nome' AND\n",
    "          Species = 'ruff' AND\n",
    "          Year = 1983 AND\n",
    "          Observer = 'cbishop' AND\n",
    "          ageMethod = 'float';\"\"\")\n",
    "\n",
    "result = cur.fetchone()\n",
    "\n",
    "print(\"Nest ID: \", result)"
   ]
  },
  {
   "cell_type": "markdown",
   "id": "ae11d501-48e3-4c77-8832-8966ca5c394f",
   "metadata": {},
   "source": [
    "### Part 1:\n",
    "Answer the following questions.\n",
    "\n",
    "- Is there already an index on the Bird_nests table? If so, what is that index and will SQLite use it in the above query? Why or why not?"
   ]
  },
  {
   "cell_type": "code",
   "execution_count": 30,
   "id": "659696c3-3bcc-49cc-afb9-5da67f21d071",
   "metadata": {
    "tags": []
   },
   "outputs": [
    {
     "name": "stdout",
     "output_type": "stream",
     "text": [
      "[(0, 'sqlite_autoindex_Bird_nests_1', 1, 'pk', 0)]\n"
     ]
    }
   ],
   "source": [
    "# Check to see if there is are indexes \n",
    "cur.execute(\"\"\"PRAGMA index_list(Bird_nests);\"\"\")\n",
    "result = cur.fetchall()\n",
    "\n",
    "print(result)"
   ]
  },
  {
   "cell_type": "code",
   "execution_count": 31,
   "id": "defd0cc1-18ed-44cd-a62f-5f0de5e29f31",
   "metadata": {
    "tags": []
   },
   "outputs": [
    {
     "name": "stdout",
     "output_type": "stream",
     "text": [
      "[(2, 0, 0, 'SCAN Bird_nests')]\n"
     ]
    }
   ],
   "source": [
    "# See if this index is used in this query\n",
    "cur.execute(\"\"\"EXPLAIN QUERY PLAN \n",
    "    SELECT Nest_ID\n",
    "    FROM Bird_nests\n",
    "    WHERE Site = 'nome' AND\n",
    "          Species = 'ruff' AND\n",
    "          Year = 1983 AND\n",
    "          Observer = 'cbishop' AND\n",
    "          ageMethod = 'float';\"\"\")\n",
    "result = cur.fetchall()\n",
    "print(result)"
   ]
  },
  {
   "cell_type": "markdown",
   "id": "a50ab3e0-b261-460f-8c7d-3a11132169b1",
   "metadata": {},
   "source": [
    "It looks like, based on the searches above, that there is one index already on the Bird_nests table. However, that index is not used in the Query for this assingment, because the query plan involves \"SCAN Bird_nests\", which is the entire table."
   ]
  },
  {
   "cell_type": "markdown",
   "id": "4f9d484a-89c8-4262-8ed4-393ef8737b89",
   "metadata": {},
   "source": [
    "- Will adding an index on a column not mentioned in the WHERE clause be used by the database? Why or why not?\n",
    "\n",
    "Since the existing index does not live on any of the columns mentioned by the WHERE clause, it is not used during the query. This makes sense, since the database has no need to use the indexes and columns not called in the query. "
   ]
  },
  {
   "cell_type": "markdown",
   "id": "ae8a7817-544a-4ae1-82da-ba263802135b",
   "metadata": {},
   "source": [
    "### Part 2:\n",
    "\n",
    "I didn't particularly enjoy creating and using the Bash test harness before, so I decided to try out doing the timings in Python instead."
   ]
  },
  {
   "cell_type": "markdown",
   "id": "9ec33a99-1487-40e8-b0d2-b04e4b3bf4b4",
   "metadata": {},
   "source": [
    "Experiment One: \n",
    "    \n",
    "    "
   ]
  },
  {
   "cell_type": "code",
   "execution_count": 32,
   "id": "02b1575b-04ae-4b8a-a017-fd846d76f996",
   "metadata": {
    "tags": []
   },
   "outputs": [
    {
     "name": "stdout",
     "output_type": "stream",
     "text": [
      "Label: none\n",
      "Average query time: 0.81752255 seconds\n",
      "Number of distinct values: 1\n"
     ]
    }
   ],
   "source": [
    "# Query to be tested\n",
    "query = \"\"\"\n",
    "    SELECT Nest_ID\n",
    "    FROM Bird_nests\n",
    "    WHERE Site = 'nome' AND\n",
    "          Species = 'ruff' AND\n",
    "          Year = 1983 AND\n",
    "          Observer = 'cbishop' AND\n",
    "          ageMethod = 'float';\n",
    "\"\"\"\n",
    "\n",
    "repetitions = 10  # This seemed like a nice middle of the road number that didn't take too long to run\n",
    "\n",
    "# Time the query\n",
    "start = time.time()\n",
    "for _ in range(repetitions):\n",
    "    cur.execute(query)\n",
    "    cur.fetchall()\n",
    "end = time.time()\n",
    "\n",
    "# Compute average query time\n",
    "avg_time = (end - start) / repetitions\n",
    "\n",
    "# Since no index is used, distinct count is 1 as per instructions\n",
    "distinct_count = 1\n",
    "\n",
    "# Print result\n",
    "print(\"Label: none\")\n",
    "print(f\"Average query time: {avg_time:.8f} seconds\")\n",
    "print(f\"Number of distinct values: {distinct_count}\")\n"
   ]
  },
  {
   "cell_type": "markdown",
   "id": "e8ab2182-06e4-4eec-82fe-0abb75c30fc2",
   "metadata": {},
   "source": [
    "Experiment 2: Now adding an index..."
   ]
  },
  {
   "cell_type": "code",
   "execution_count": 33,
   "id": "a011e4fd-456b-4ee0-9ddf-da9a63d402f4",
   "metadata": {
    "tags": []
   },
   "outputs": [
    {
     "name": "stdout",
     "output_type": "stream",
     "text": [
      "Label: Site\n",
      "Average query time: 0.10294945 seconds\n",
      "Number of distinct values: 16\n"
     ]
    }
   ],
   "source": [
    "# Query to test\n",
    "query = \"\"\"\n",
    "    SELECT Nest_ID\n",
    "    FROM Bird_nests\n",
    "    WHERE Site = 'nome' AND\n",
    "          Species = 'ruff' AND\n",
    "          Year = 1983 AND\n",
    "          Observer = 'cbishop' AND\n",
    "          ageMethod = 'float';\n",
    "\"\"\"\n",
    "\n",
    "repetitions = 10\n",
    "index_name = \"idx_Site\"\n",
    "\n",
    "# Create index on Site\n",
    "cur.execute(f\"CREATE INDEX {index_name} ON Bird_nests (Site)\")\n",
    "\n",
    "# Time the query\n",
    "start = time.time()\n",
    "for _ in range(repetitions):\n",
    "    cur.execute(query)\n",
    "    cur.fetchall()\n",
    "end = time.time()\n",
    "avg_time = (end - start) / repetitions\n",
    "\n",
    "# Count distinct Site values\n",
    "cur.execute(\"SELECT COUNT(DISTINCT Site) FROM Bird_nests\")\n",
    "distinct_count = cur.fetchone()[0]\n",
    "\n",
    "# Drop the index\n",
    "cur.execute(f\"DROP INDEX IF EXISTS {index_name}\")\n",
    "\n",
    "# Output the results\n",
    "print(\"Label: Site\")\n",
    "print(f\"Average query time: {avg_time:.8f} seconds\")\n",
    "print(f\"Number of distinct values: {distinct_count}\")"
   ]
  },
  {
   "cell_type": "markdown",
   "id": "5776e049-6b64-45da-b666-2cd502731b7b",
   "metadata": {},
   "source": [
    "Awesome, it's working and I can see that the query time is improving with an index already. However, doing these one by one is going to take forever...time to automate my process, and write the results to a csv."
   ]
  },
  {
   "cell_type": "code",
   "execution_count": 34,
   "id": "1f86b7da-0b83-4b6a-af1a-82289b14c077",
   "metadata": {
    "tags": []
   },
   "outputs": [
    {
     "name": "stdout",
     "output_type": "stream",
     "text": [
      "Running experiment: none\n",
      "  Average query time: 0.787428 seconds\n",
      "  Distinct values: 1\n",
      "----------------------------------------\n",
      "Running experiment: Site\n",
      "  Created index: idx_Site\n",
      "  Average query time: 0.103952 seconds\n",
      "  Distinct values: 16\n",
      "  Dropped index: idx_Site\n",
      "----------------------------------------\n",
      "Running experiment: Species\n",
      "  Created index: idx_Species\n",
      "  Average query time: 0.020617 seconds\n",
      "  Distinct values: 99\n",
      "  Dropped index: idx_Species\n",
      "----------------------------------------\n",
      "Running experiment: Year\n",
      "  Created index: idx_Year\n",
      "  Average query time: 0.029866 seconds\n",
      "  Distinct values: 66\n",
      "  Dropped index: idx_Year\n",
      "----------------------------------------\n",
      "Running experiment: Observer\n",
      "  Created index: idx_Observer\n",
      "  Average query time: 0.006044 seconds\n",
      "  Distinct values: 269\n",
      "  Dropped index: idx_Observer\n",
      "----------------------------------------\n",
      "Running experiment: ageMethod\n",
      "  Created index: idx_ageMethod\n",
      "  Average query time: 0.434225 seconds\n",
      "  Distinct values: 3\n",
      "  Dropped index: idx_ageMethod\n",
      "----------------------------------------\n",
      "Running experiment: Site,Species\n",
      "  Created index: idx_Site_Species\n",
      "  Average query time: 0.001113 seconds\n",
      "  Distinct values: 1584\n",
      "  Dropped index: idx_Site_Species\n",
      "----------------------------------------\n",
      "Running experiment: Site,Observer\n",
      "  Created index: idx_Site_Observer\n",
      "  Average query time: 0.000434 seconds\n",
      "  Distinct values: 4304\n",
      "  Dropped index: idx_Site_Observer\n",
      "----------------------------------------\n",
      "Running experiment: Species,Observer\n",
      "  Created index: idx_Species_Observer\n",
      "  Average query time: 0.000083 seconds\n",
      "  Distinct values: 26631\n",
      "  Dropped index: idx_Species_Observer\n",
      "----------------------------------------\n",
      "Running experiment: Year,Observer\n",
      "  Created index: idx_Year_Observer\n",
      "  Average query time: 0.000111 seconds\n",
      "  Distinct values: 17754\n",
      "  Dropped index: idx_Year_Observer\n",
      "----------------------------------------\n",
      "Running experiment: Observer,ageMethod\n",
      "  Created index: idx_Observer_ageMethod\n",
      "  Average query time: 0.002174 seconds\n",
      "  Distinct values: 807\n",
      "  Dropped index: idx_Observer_ageMethod\n",
      "----------------------------------------\n",
      "Running experiment: Site,Species,Observer\n",
      "  Created index: idx_Site_Species_Observer\n",
      "  Average query time: 0.000049 seconds\n",
      "  Distinct values: 422204\n",
      "  Dropped index: idx_Site_Species_Observer\n",
      "----------------------------------------\n",
      "Running experiment: Site,Species,Year\n",
      "  Created index: idx_Site_Species_Year\n",
      "  Average query time: 0.000058 seconds\n",
      "  Distinct values: 104544\n",
      "  Dropped index: idx_Site_Species_Year\n",
      "----------------------------------------\n",
      "Running experiment: Species,Year,Observer\n",
      "  Created index: idx_Species_Year_Observer\n",
      "  Average query time: 0.000049 seconds\n",
      "  Distinct values: 1194003\n",
      "  Dropped index: idx_Species_Year_Observer\n",
      "----------------------------------------\n",
      "Running experiment: Site,Species,Year,Observer\n",
      "  Created index: idx_Site_Species_Year_Observer\n",
      "  Average query time: 0.000047 seconds\n",
      "  Distinct values: 1930842\n",
      "  Dropped index: idx_Site_Species_Year_Observer\n",
      "----------------------------------------\n",
      "Experiments complete. Results saved to 'index_experiment_results.csv'.\n",
      "\n",
      "Summary of Results:\n",
      "============================================================\n",
      "none                      |   0.787428s |        1 distinct\n",
      "Site                      |   0.103952s |       16 distinct\n",
      "Species                   |   0.020617s |       99 distinct\n",
      "Year                      |   0.029866s |       66 distinct\n",
      "Observer                  |   0.006044s |      269 distinct\n",
      "ageMethod                 |   0.434225s |        3 distinct\n",
      "Site,Species              |   0.001113s |     1584 distinct\n",
      "Site,Observer             |   0.000434s |     4304 distinct\n",
      "Species,Observer          |   0.000083s |    26631 distinct\n",
      "Year,Observer             |   0.000111s |    17754 distinct\n",
      "Observer,ageMethod        |   0.002174s |      807 distinct\n",
      "Site,Species,Observer     |   0.000049s |   422204 distinct\n",
      "Site,Species,Year         |   0.000058s |   104544 distinct\n",
      "Species,Year,Observer     |   0.000049s |  1194003 distinct\n",
      "Site,Species,Year,Observer |   0.000047s |  1930842 distinct\n"
     ]
    }
   ],
   "source": [
    "# Parameters - first define query\n",
    "query = \"\"\"\n",
    "    SELECT Nest_ID\n",
    "    FROM Bird_nests\n",
    "    WHERE Site = 'nome' AND\n",
    "          Species = 'ruff' AND\n",
    "          Year = 1983 AND\n",
    "          Observer = 'cbishop' AND\n",
    "          ageMethod = 'float';\n",
    "\"\"\"\n",
    "repetitions = 10  \n",
    "\n",
    "# Define all index configurations for the 15 experiments\n",
    "index_experiments = [\n",
    "    (\"none\", None),  # baseline (no index)\n",
    "    (\"Site\", [\"Site\"]),\n",
    "    (\"Species\", [\"Species\"]),\n",
    "    (\"Year\", [\"Year\"]),\n",
    "    (\"Observer\", [\"Observer\"]),\n",
    "    (\"ageMethod\", [\"ageMethod\"]),\n",
    "    # Columns with more than 1 index\n",
    "    (\"Site,Species\", [\"Site\", \"Species\"]),\n",
    "    (\"Site,Observer\", [\"Site\", \"Observer\"]),\n",
    "    (\"Species,Observer\", [\"Species\", \"Observer\"]),\n",
    "    (\"Year,Observer\", [\"Year\", \"Observer\"]),\n",
    "    (\"Observer,ageMethod\", [\"Observer\", \"ageMethod\"]),\n",
    "    (\"Site,Species,Observer\", [\"Site\", \"Species\", \"Observer\"]),\n",
    "    (\"Site,Species,Year\", [\"Site\", \"Species\", \"Year\"]),\n",
    "    (\"Species,Year,Observer\", [\"Species\", \"Year\", \"Observer\"]),\n",
    "    (\"Site,Species,Year,Observer\", [\"Site\", \"Species\", \"Year\", \"Observer\"])\n",
    "]\n",
    "\n",
    "# Results list\n",
    "results = []\n",
    "\n",
    "# Create a for loop to create the index\n",
    "for label, columns in index_experiments:\n",
    "    print(f\"Running experiment: {label}\")\n",
    "    \n",
    "    try:\n",
    "        # If columns specified, create an index; NOTE: Had to replace symbols to avoid errors \n",
    "        index_name = f\"idx_{label.replace(',', '_').replace(' ', '')}\"\n",
    "        if columns:\n",
    "            col_str = \", \".join(columns)\n",
    "            cur.execute(f\"CREATE INDEX {index_name} ON Bird_nests ({col_str})\")\n",
    "            print(f\"  Created index: {index_name}\")\n",
    "        \n",
    "        # Time the query\n",
    "        start = time.time()\n",
    "        for _ in range(repetitions):\n",
    "            cur.execute(query)\n",
    "            cur.fetchall()\n",
    "        end = time.time()\n",
    "        avg_time = (end - start) / repetitions\n",
    "        print(f\"  Average query time: {avg_time:.6f} seconds\")\n",
    "        \n",
    "        # Count distinct values in the indexed columns\n",
    "        if columns:\n",
    "            if len(columns) == 1:\n",
    "                # Single column - use COUNT(DISTINCT column)\n",
    "                distinct_query = f\"SELECT COUNT(DISTINCT {columns[0]}) FROM Bird_nests\"\n",
    "            else:\n",
    "                # Multiple columns - use COUNT(*) with GROUP BY to count distinct combinations\n",
    "                col_str = \", \".join(columns)\n",
    "                distinct_query = f\"SELECT COUNT(*) FROM (SELECT DISTINCT {col_str} FROM Bird_nests)\"\n",
    "            \n",
    "            cur.execute(distinct_query)\n",
    "            distinct_count = cur.fetchone()[0]\n",
    "        else:\n",
    "            distinct_count = 1  # Accounts for first experiment\n",
    "        \n",
    "        print(f\"  Distinct values: {distinct_count}\")\n",
    "        \n",
    "        # Save results\n",
    "        results.append((label, avg_time, distinct_count))\n",
    "        \n",
    "    except Exception as e:\n",
    "        print(f\"  ERROR in experiment '{label}': {e}\")\n",
    "        # Still record the result with an error marker (this came in handy during development)\n",
    "        results.append((label, \"ERROR\", \"ERROR\"))\n",
    "    \n",
    "    finally:\n",
    "        # Always try to drop the index, even if there was an error\n",
    "        if columns:\n",
    "            try:\n",
    "                cur.execute(f\"DROP INDEX IF EXISTS {index_name}\")\n",
    "                print(f\"  Dropped index: {index_name}\")\n",
    "            except Exception as e:\n",
    "                print(f\"  Warning: Could not drop index {index_name}: {e}\")\n",
    "    \n",
    "    print(\"-\" * 40) # Just makes it fancy!\n",
    "\n",
    "# Write results to CSV\n",
    "with open(\"index_experiment_results.csv\", \"w\", newline='') as f:\n",
    "    writer = csv.writer(f)\n",
    "    writer.writerow([\"label\", \"avg_query_time\", \"num_distinct_values\"])\n",
    "    writer.writerows(results)\n",
    "\n",
    "print(\"Experiments complete. Results saved to 'index_experiment_results.csv'.\")\n",
    "\n",
    "# Display summary\n",
    "print(\"\\nSummary of Results:\")\n",
    "print(\"=\" * 60)\n",
    "for label, avg_time, distinct_count in results:\n",
    "    if avg_time != \"ERROR\":\n",
    "        print(f\"{label:25} | {avg_time:10.6f}s | {distinct_count:8} distinct\")\n",
    "    else:\n",
    "        print(f\"{label:25} | {'ERROR':>10} | {'ERROR':>8}\")"
   ]
  },
  {
   "cell_type": "code",
   "execution_count": 35,
   "id": "051c51fc-fa43-4e8f-aa78-0a5f165a79f2",
   "metadata": {},
   "outputs": [],
   "source": [
    "# Cleanup and close connections!\n",
    "mem_conn.close()\n",
    "readonly_conn.close()"
   ]
  },
  {
   "cell_type": "code",
   "execution_count": 36,
   "id": "f17f6de2-9886-436f-9a98-44a7af718e08",
   "metadata": {
    "tags": []
   },
   "outputs": [
    {
     "data": {
      "text/html": [
       "<div>\n",
       "<style scoped>\n",
       "    .dataframe tbody tr th:only-of-type {\n",
       "        vertical-align: middle;\n",
       "    }\n",
       "\n",
       "    .dataframe tbody tr th {\n",
       "        vertical-align: top;\n",
       "    }\n",
       "\n",
       "    .dataframe thead th {\n",
       "        text-align: right;\n",
       "    }\n",
       "</style>\n",
       "<table border=\"1\" class=\"dataframe\">\n",
       "  <thead>\n",
       "    <tr style=\"text-align: right;\">\n",
       "      <th></th>\n",
       "      <th>label</th>\n",
       "      <th>avg_query_time</th>\n",
       "      <th>num_distinct_values</th>\n",
       "    </tr>\n",
       "  </thead>\n",
       "  <tbody>\n",
       "    <tr>\n",
       "      <th>0</th>\n",
       "      <td>none</td>\n",
       "      <td>0.787428</td>\n",
       "      <td>1</td>\n",
       "    </tr>\n",
       "    <tr>\n",
       "      <th>1</th>\n",
       "      <td>Site</td>\n",
       "      <td>0.103952</td>\n",
       "      <td>16</td>\n",
       "    </tr>\n",
       "    <tr>\n",
       "      <th>2</th>\n",
       "      <td>Species</td>\n",
       "      <td>0.020617</td>\n",
       "      <td>99</td>\n",
       "    </tr>\n",
       "    <tr>\n",
       "      <th>3</th>\n",
       "      <td>Year</td>\n",
       "      <td>0.029866</td>\n",
       "      <td>66</td>\n",
       "    </tr>\n",
       "    <tr>\n",
       "      <th>4</th>\n",
       "      <td>Observer</td>\n",
       "      <td>0.006044</td>\n",
       "      <td>269</td>\n",
       "    </tr>\n",
       "  </tbody>\n",
       "</table>\n",
       "</div>"
      ],
      "text/plain": [
       "      label  avg_query_time  num_distinct_values\n",
       "0      none        0.787428                    1\n",
       "1      Site        0.103952                   16\n",
       "2   Species        0.020617                   99\n",
       "3      Year        0.029866                   66\n",
       "4  Observer        0.006044                  269"
      ]
     },
     "execution_count": 36,
     "metadata": {},
     "output_type": "execute_result"
    }
   ],
   "source": [
    "# Read in the csv I created\n",
    "experiment_results = pd.read_csv(\"index_experiment_results.csv\")\n",
    "experiment_results.head()"
   ]
  },
  {
   "cell_type": "code",
   "execution_count": 37,
   "id": "61541f75-38be-4f79-838b-1e97b686a90b",
   "metadata": {
    "tags": []
   },
   "outputs": [
    {
     "data": {
      "image/png": "[encoded data removed]",
      "text/plain": [
       "<Figure size 800x600 with 1 Axes>"
      ]
     },
     "metadata": {},
     "output_type": "display_data"
    }
   ],
   "source": [
    "# Make a line plot of my results\n",
    "plt.figure(figsize=(8,6))\n",
    "\n",
    "# Use log transformed values\n",
    "plt.loglog(experiment_results[\"num_distinct_values\"], experiment_results[\"avg_query_time\"], 'o', color='lightblue')\n",
    "\n",
    "# Labels\n",
    "plt.xlabel(\"Number of Distinct Index Values\")\n",
    "plt.ylabel(\"Average Query Time\")\n",
    "plt.title(\"A plot showing the time saving virtues of indexes\")\n",
    "\n",
    "# Finish plot\n",
    "plt.grid(True)\n",
    "plt.show()"
   ]
  },
  {
   "cell_type": "markdown",
   "id": "582765a8-f592-44c7-941c-960391676036",
   "metadata": {},
   "source": [
    "## Conclusion:\n",
    "\n",
    "- What relationship do you observe? Hypothesize why you see the relationship you do.\n",
    "\n",
    "I see that average query time goes down as the number of distinct index values goes up. However, at around 10^5 it starts leveling out. So, at a certain point, the number of index values no longer makes a difference on the length of run time for a query. Perhaps because, once the query is narrowed down enough, additional indexes are redundant.\n",
    "\n",
    "- What conclusion do you draw regarding what makes a good index?\n",
    "\n",
    "In conclusion, I think that a good index is one that strikes the balance between enough index values to reduce run time, but not so many as to be redundant."
   ]
  },
  {
   "cell_type": "markdown",
   "id": "153859ce-3b20-43cc-84e8-7bd396c260ca",
   "metadata": {},
   "source": [
    "### Citations and Credits: \n",
    "\n",
    "https://www.sqlitetutorial.net/sqlite-index/\n",
    "\n",
    "https://matthewsetter.com/sqlite-attempt-to-write-to-readonly-database/\n",
    "\n",
    "https://stackoverflow.com/questions/3319112/sqlite-error-attempt-to-write-a-readonly-database-during-insert\n",
    "\n",
    "https://stackoverflow.com/questions/64236409/how-can-i-get-the-execution-time-of-an-sql-query-using-mysql-connector-in-python\n",
    "\n",
    "https://eds-217-essential-python.github.io/cheatsheets.html\n",
    "\n",
    "https://docs.python.org/3/tutorial/errors.html\n",
    "\n",
    "and Michelle Yiv and Madison Enda for coworking with me and helping me troubleshoot!"
   ]
  },
  {
   "cell_type": "code",
   "execution_count": null,
   "id": "4cf1e152-dc85-4cf2-93be-40895ab734c3",
   "metadata": {},
   "outputs": [],
   "source": []
  }
 ],
 "metadata": {
  "kernelspec": {
   "display_name": "Python 3.10.0",
   "language": "python",
   "name": "python3.10.0"
  },
  "language_info": {
   "codemirror_mode": {
    "name": "ipython",
    "version": 3
   },
   "file_extension": ".py",
   "mimetype": "text/x-python",
   "name": "python",
   "nbconvert_exporter": "python",
   "pygments_lexer": "ipython3",
   "version": "3.10.0"
  }
 },
 "nbformat": 4,
 "nbformat_minor": 5
}
